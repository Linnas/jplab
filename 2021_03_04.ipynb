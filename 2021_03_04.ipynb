{
 "cells": [
  {
   "cell_type": "code",
   "execution_count": 1,
   "id": "ranking-russia",
   "metadata": {},
   "outputs": [],
   "source": [
    "import numpy as np"
   ]
  },
  {
   "cell_type": "code",
   "execution_count": 2,
   "id": "precise-chick",
   "metadata": {},
   "outputs": [],
   "source": [
    "import pandas as pd"
   ]
  },
  {
   "cell_type": "code",
   "execution_count": 3,
   "id": "pleased-cartoon",
   "metadata": {},
   "outputs": [],
   "source": [
    "import scanpy as sc"
   ]
  },
  {
   "cell_type": "code",
   "execution_count": 4,
   "id": "corporate-mouse",
   "metadata": {},
   "outputs": [
    {
     "name": "stdout",
     "output_type": "stream",
     "text": [
      "scanpy==1.7.1 anndata==0.7.5 umap==0.5.1 numpy==1.20.1 scipy==1.6.1 pandas==1.2.3 scikit-learn==0.24.1 statsmodels==0.12.2\n"
     ]
    }
   ],
   "source": [
    "sc.settings.verbosity = 3             # verbosity: errors (0), warnings (1), info (2), hints (3)\n",
    "sc.logging.print_header()\n",
    "sc.settings.set_figure_params(dpi=80, facecolor='white')"
   ]
  },
  {
   "cell_type": "code",
   "execution_count": 6,
   "id": "coastal-movie",
   "metadata": {},
   "outputs": [
    {
     "name": "stderr",
     "output_type": "stream",
     "text": [
      "c:\\users\\sirius\\appdata\\local\\programs\\python\\python38\\lib\\site-packages\\anndata\\compat\\__init__.py:179: FutureWarning: Moving element from .uns['neighbors']['distances'] to .obsp['distances'].\n",
      "\n",
      "This is where adjacency matrices should go now.\n",
      "  warn(\n",
      "c:\\users\\sirius\\appdata\\local\\programs\\python\\python38\\lib\\site-packages\\anndata\\compat\\__init__.py:179: FutureWarning: Moving element from .uns['neighbors']['connectivities'] to .obsp['connectivities'].\n",
      "\n",
      "This is where adjacency matrices should go now.\n",
      "  warn(\n"
     ]
    }
   ],
   "source": [
    "file_path = 'pbmc3k_processed.h5ad'\n",
    "adata = sc.read_h5ad(file_path)"
   ]
  },
  {
   "cell_type": "code",
   "execution_count": 7,
   "id": "going-watson",
   "metadata": {},
   "outputs": [
    {
     "data": {
      "text/plain": [
       "AnnData object with n_obs × n_vars = 3309 × 1764\n",
       "    obs: 'n_genes', 'n_counts', 'percent_mito', 'louvain'\n",
       "    var: 'gene_ids', 'feature_types', 'n_cells', 'highly_variable', 'means', 'dispersions', 'dispersions_norm'\n",
       "    uns: 'louvain', 'louvain_colors', 'neighbors', 'pca', 'rank_genes_groups', 'umap'\n",
       "    obsm: 'X_pca', 'X_umap'\n",
       "    varm: 'PCs'\n",
       "    obsp: 'distances', 'connectivities'"
      ]
     },
     "execution_count": 7,
     "metadata": {},
     "output_type": "execute_result"
    }
   ],
   "source": [
    "adata"
   ]
  },
  {
   "cell_type": "code",
   "execution_count": 8,
   "id": "average-customs",
   "metadata": {},
   "outputs": [
    {
     "data": {
      "text/html": [
       "<div>\n",
       "<style scoped>\n",
       "    .dataframe tbody tr th:only-of-type {\n",
       "        vertical-align: middle;\n",
       "    }\n",
       "\n",
       "    .dataframe tbody tr th {\n",
       "        vertical-align: top;\n",
       "    }\n",
       "\n",
       "    .dataframe thead th {\n",
       "        text-align: right;\n",
       "    }\n",
       "</style>\n",
       "<table border=\"1\" class=\"dataframe\">\n",
       "  <thead>\n",
       "    <tr style=\"text-align: right;\">\n",
       "      <th></th>\n",
       "      <th>n_genes</th>\n",
       "      <th>n_counts</th>\n",
       "      <th>percent_mito</th>\n",
       "      <th>louvain</th>\n",
       "    </tr>\n",
       "  </thead>\n",
       "  <tbody>\n",
       "    <tr>\n",
       "      <th>AAACCCACAGGCTTGC-1</th>\n",
       "      <td>1685</td>\n",
       "      <td>4428.0</td>\n",
       "      <td>0.119241</td>\n",
       "      <td>2</td>\n",
       "    </tr>\n",
       "    <tr>\n",
       "      <th>AAACCCAGTAGTTAGA-1</th>\n",
       "      <td>2291</td>\n",
       "      <td>7107.0</td>\n",
       "      <td>0.059519</td>\n",
       "      <td>2</td>\n",
       "    </tr>\n",
       "    <tr>\n",
       "      <th>AAACGAAGTGGATCAG-1</th>\n",
       "      <td>1850</td>\n",
       "      <td>4838.0</td>\n",
       "      <td>0.076685</td>\n",
       "      <td>2</td>\n",
       "    </tr>\n",
       "    <tr>\n",
       "      <th>AAACGAATCATGAGAA-1</th>\n",
       "      <td>1410</td>\n",
       "      <td>4244.0</td>\n",
       "      <td>0.047361</td>\n",
       "      <td>0</td>\n",
       "    </tr>\n",
       "    <tr>\n",
       "      <th>AAACGAATCGTCCTTG-1</th>\n",
       "      <td>1593</td>\n",
       "      <td>4055.0</td>\n",
       "      <td>0.101850</td>\n",
       "      <td>2</td>\n",
       "    </tr>\n",
       "    <tr>\n",
       "      <th>...</th>\n",
       "      <td>...</td>\n",
       "      <td>...</td>\n",
       "      <td>...</td>\n",
       "      <td>...</td>\n",
       "    </tr>\n",
       "    <tr>\n",
       "      <th>TTTGATCGTTACGCCG-1</th>\n",
       "      <td>1591</td>\n",
       "      <td>6504.0</td>\n",
       "      <td>0.089637</td>\n",
       "      <td>0</td>\n",
       "    </tr>\n",
       "    <tr>\n",
       "      <th>TTTGGAGAGGTAGCCA-1</th>\n",
       "      <td>1957</td>\n",
       "      <td>6569.0</td>\n",
       "      <td>0.051302</td>\n",
       "      <td>0</td>\n",
       "    </tr>\n",
       "    <tr>\n",
       "      <th>TTTGGAGGTATCGATC-1</th>\n",
       "      <td>1411</td>\n",
       "      <td>4803.0</td>\n",
       "      <td>0.083281</td>\n",
       "      <td>1</td>\n",
       "    </tr>\n",
       "    <tr>\n",
       "      <th>TTTGGTTCAATTTCCT-1</th>\n",
       "      <td>2850</td>\n",
       "      <td>8431.0</td>\n",
       "      <td>0.083146</td>\n",
       "      <td>2</td>\n",
       "    </tr>\n",
       "    <tr>\n",
       "      <th>TTTGGTTGTTGGAGAC-1</th>\n",
       "      <td>1520</td>\n",
       "      <td>4546.0</td>\n",
       "      <td>0.094149</td>\n",
       "      <td>0</td>\n",
       "    </tr>\n",
       "  </tbody>\n",
       "</table>\n",
       "<p>3309 rows × 4 columns</p>\n",
       "</div>"
      ],
      "text/plain": [
       "                    n_genes  n_counts  percent_mito louvain\n",
       "AAACCCACAGGCTTGC-1     1685    4428.0      0.119241       2\n",
       "AAACCCAGTAGTTAGA-1     2291    7107.0      0.059519       2\n",
       "AAACGAAGTGGATCAG-1     1850    4838.0      0.076685       2\n",
       "AAACGAATCATGAGAA-1     1410    4244.0      0.047361       0\n",
       "AAACGAATCGTCCTTG-1     1593    4055.0      0.101850       2\n",
       "...                     ...       ...           ...     ...\n",
       "TTTGATCGTTACGCCG-1     1591    6504.0      0.089637       0\n",
       "TTTGGAGAGGTAGCCA-1     1957    6569.0      0.051302       0\n",
       "TTTGGAGGTATCGATC-1     1411    4803.0      0.083281       1\n",
       "TTTGGTTCAATTTCCT-1     2850    8431.0      0.083146       2\n",
       "TTTGGTTGTTGGAGAC-1     1520    4546.0      0.094149       0\n",
       "\n",
       "[3309 rows x 4 columns]"
      ]
     },
     "execution_count": 8,
     "metadata": {},
     "output_type": "execute_result"
    }
   ],
   "source": [
    "adata.obs"
   ]
  },
  {
   "cell_type": "code",
   "execution_count": 9,
   "id": "seventh-marker",
   "metadata": {},
   "outputs": [
    {
     "data": {
      "text/plain": [
       "pandas.core.frame.DataFrame"
      ]
     },
     "execution_count": 9,
     "metadata": {},
     "output_type": "execute_result"
    }
   ],
   "source": [
    "type(adata.obs)"
   ]
  },
  {
   "cell_type": "code",
   "execution_count": 10,
   "id": "located-pitch",
   "metadata": {},
   "outputs": [
    {
     "data": {
      "text/html": [
       "<div>\n",
       "<style scoped>\n",
       "    .dataframe tbody tr th:only-of-type {\n",
       "        vertical-align: middle;\n",
       "    }\n",
       "\n",
       "    .dataframe tbody tr th {\n",
       "        vertical-align: top;\n",
       "    }\n",
       "\n",
       "    .dataframe thead th {\n",
       "        text-align: right;\n",
       "    }\n",
       "</style>\n",
       "<table border=\"1\" class=\"dataframe\">\n",
       "  <thead>\n",
       "    <tr style=\"text-align: right;\">\n",
       "      <th></th>\n",
       "      <th>gene_ids</th>\n",
       "      <th>feature_types</th>\n",
       "      <th>n_cells</th>\n",
       "      <th>highly_variable</th>\n",
       "      <th>means</th>\n",
       "      <th>dispersions</th>\n",
       "      <th>dispersions_norm</th>\n",
       "    </tr>\n",
       "  </thead>\n",
       "  <tbody>\n",
       "    <tr>\n",
       "      <th>HES4</th>\n",
       "      <td>ENSG00000188290</td>\n",
       "      <td>Gene Expression</td>\n",
       "      <td>172</td>\n",
       "      <td>True</td>\n",
       "      <td>0.126009</td>\n",
       "      <td>1.552542</td>\n",
       "      <td>4.629852</td>\n",
       "    </tr>\n",
       "    <tr>\n",
       "      <th>ISG15</th>\n",
       "      <td>ENSG00000187608</td>\n",
       "      <td>Gene Expression</td>\n",
       "      <td>1639</td>\n",
       "      <td>True</td>\n",
       "      <td>0.938146</td>\n",
       "      <td>1.793806</td>\n",
       "      <td>1.687141</td>\n",
       "    </tr>\n",
       "    <tr>\n",
       "      <th>TNFRSF18</th>\n",
       "      <td>ENSG00000186891</td>\n",
       "      <td>Gene Expression</td>\n",
       "      <td>210</td>\n",
       "      <td>True</td>\n",
       "      <td>0.122628</td>\n",
       "      <td>1.053876</td>\n",
       "      <td>2.278032</td>\n",
       "    </tr>\n",
       "    <tr>\n",
       "      <th>TNFRSF4</th>\n",
       "      <td>ENSG00000186827</td>\n",
       "      <td>Gene Expression</td>\n",
       "      <td>239</td>\n",
       "      <td>True</td>\n",
       "      <td>0.135475</td>\n",
       "      <td>1.046793</td>\n",
       "      <td>2.244627</td>\n",
       "    </tr>\n",
       "    <tr>\n",
       "      <th>AL645728.1</th>\n",
       "      <td>ENSG00000215014</td>\n",
       "      <td>Gene Expression</td>\n",
       "      <td>456</td>\n",
       "      <td>True</td>\n",
       "      <td>0.224212</td>\n",
       "      <td>0.688873</td>\n",
       "      <td>0.556601</td>\n",
       "    </tr>\n",
       "    <tr>\n",
       "      <th>...</th>\n",
       "      <td>...</td>\n",
       "      <td>...</td>\n",
       "      <td>...</td>\n",
       "      <td>...</td>\n",
       "      <td>...</td>\n",
       "      <td>...</td>\n",
       "      <td>...</td>\n",
       "    </tr>\n",
       "    <tr>\n",
       "      <th>MX1</th>\n",
       "      <td>ENSG00000157601</td>\n",
       "      <td>Gene Expression</td>\n",
       "      <td>731</td>\n",
       "      <td>True</td>\n",
       "      <td>0.431630</td>\n",
       "      <td>1.540377</td>\n",
       "      <td>3.462902</td>\n",
       "    </tr>\n",
       "    <tr>\n",
       "      <th>PDXK</th>\n",
       "      <td>ENSG00000160209</td>\n",
       "      <td>Gene Expression</td>\n",
       "      <td>724</td>\n",
       "      <td>True</td>\n",
       "      <td>0.371108</td>\n",
       "      <td>0.785511</td>\n",
       "      <td>0.545241</td>\n",
       "    </tr>\n",
       "    <tr>\n",
       "      <th>AP001059.2</th>\n",
       "      <td>ENSG00000275799</td>\n",
       "      <td>Gene Expression</td>\n",
       "      <td>35</td>\n",
       "      <td>True</td>\n",
       "      <td>0.019936</td>\n",
       "      <td>0.743344</td>\n",
       "      <td>0.813498</td>\n",
       "    </tr>\n",
       "    <tr>\n",
       "      <th>COL6A2</th>\n",
       "      <td>ENSG00000142173</td>\n",
       "      <td>Gene Expression</td>\n",
       "      <td>233</td>\n",
       "      <td>True</td>\n",
       "      <td>0.147142</td>\n",
       "      <td>1.032129</td>\n",
       "      <td>2.175468</td>\n",
       "    </tr>\n",
       "    <tr>\n",
       "      <th>S100B</th>\n",
       "      <td>ENSG00000160307</td>\n",
       "      <td>Gene Expression</td>\n",
       "      <td>161</td>\n",
       "      <td>True</td>\n",
       "      <td>0.390088</td>\n",
       "      <td>3.016053</td>\n",
       "      <td>9.166590</td>\n",
       "    </tr>\n",
       "  </tbody>\n",
       "</table>\n",
       "<p>1764 rows × 7 columns</p>\n",
       "</div>"
      ],
      "text/plain": [
       "                   gene_ids    feature_types  n_cells  highly_variable  \\\n",
       "HES4        ENSG00000188290  Gene Expression      172             True   \n",
       "ISG15       ENSG00000187608  Gene Expression     1639             True   \n",
       "TNFRSF18    ENSG00000186891  Gene Expression      210             True   \n",
       "TNFRSF4     ENSG00000186827  Gene Expression      239             True   \n",
       "AL645728.1  ENSG00000215014  Gene Expression      456             True   \n",
       "...                     ...              ...      ...              ...   \n",
       "MX1         ENSG00000157601  Gene Expression      731             True   \n",
       "PDXK        ENSG00000160209  Gene Expression      724             True   \n",
       "AP001059.2  ENSG00000275799  Gene Expression       35             True   \n",
       "COL6A2      ENSG00000142173  Gene Expression      233             True   \n",
       "S100B       ENSG00000160307  Gene Expression      161             True   \n",
       "\n",
       "               means  dispersions  dispersions_norm  \n",
       "HES4        0.126009     1.552542          4.629852  \n",
       "ISG15       0.938146     1.793806          1.687141  \n",
       "TNFRSF18    0.122628     1.053876          2.278032  \n",
       "TNFRSF4     0.135475     1.046793          2.244627  \n",
       "AL645728.1  0.224212     0.688873          0.556601  \n",
       "...              ...          ...               ...  \n",
       "MX1         0.431630     1.540377          3.462902  \n",
       "PDXK        0.371108     0.785511          0.545241  \n",
       "AP001059.2  0.019936     0.743344          0.813498  \n",
       "COL6A2      0.147142     1.032129          2.175468  \n",
       "S100B       0.390088     3.016053          9.166590  \n",
       "\n",
       "[1764 rows x 7 columns]"
      ]
     },
     "execution_count": 10,
     "metadata": {},
     "output_type": "execute_result"
    }
   ],
   "source": [
    "adata.var"
   ]
  },
  {
   "cell_type": "code",
   "execution_count": null,
   "id": "meaningful-prophet",
   "metadata": {},
   "outputs": [],
   "source": []
  }
 ],
 "metadata": {
  "kernelspec": {
   "display_name": "Python 3",
   "language": "python",
   "name": "python3"
  },
  "language_info": {
   "codemirror_mode": {
    "name": "ipython",
    "version": 3
   },
   "file_extension": ".py",
   "mimetype": "text/x-python",
   "name": "python",
   "nbconvert_exporter": "python",
   "pygments_lexer": "ipython3",
   "version": "3.8.8"
  }
 },
 "nbformat": 4,
 "nbformat_minor": 5
}
